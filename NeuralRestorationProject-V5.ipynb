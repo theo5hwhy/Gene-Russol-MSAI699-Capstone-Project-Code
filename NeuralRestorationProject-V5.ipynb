{
  "nbformat": 4,
  "nbformat_minor": 0,
  "metadata": {
    "colab": {
      "provenance": []
    },
    "kernelspec": {
      "name": "python3",
      "display_name": "Python 3"
    },
    "language_info": {
      "name": "python"
    }
  },
  "cells": [
    {
      "cell_type": "markdown",
      "source": [
        "**Author: Gene Russol**\n",
        "\n",
        "MSAI699 Capstone Project: Interpretability for Neural Tissue Modeling\n",
        "\n",
        "April 24, 2025\n",
        "\n",
        "Prof: Dr. Vinu Russell Viswasadhas"
      ],
      "metadata": {
        "id": "7cyydpU78gnl"
      }
    },
    {
      "cell_type": "code",
      "execution_count": 1,
      "metadata": {
        "colab": {
          "base_uri": "https://localhost:8080/"
        },
        "id": "DTnUYJ0L_upa",
        "outputId": "5ce779e1-1b73-4f8e-fa37-a5c9f9149da5"
      },
      "outputs": [
        {
          "output_type": "stream",
          "name": "stdout",
          "text": [
            "Requirement already satisfied: shap in /usr/local/lib/python3.11/dist-packages (0.47.2)\n",
            "Requirement already satisfied: numpy in /usr/local/lib/python3.11/dist-packages (from shap) (2.0.2)\n",
            "Requirement already satisfied: scipy in /usr/local/lib/python3.11/dist-packages (from shap) (1.14.1)\n",
            "Requirement already satisfied: scikit-learn in /usr/local/lib/python3.11/dist-packages (from shap) (1.6.1)\n",
            "Requirement already satisfied: pandas in /usr/local/lib/python3.11/dist-packages (from shap) (2.2.2)\n",
            "Requirement already satisfied: tqdm>=4.27.0 in /usr/local/lib/python3.11/dist-packages (from shap) (4.67.1)\n",
            "Requirement already satisfied: packaging>20.9 in /usr/local/lib/python3.11/dist-packages (from shap) (24.2)\n",
            "Requirement already satisfied: slicer==0.0.8 in /usr/local/lib/python3.11/dist-packages (from shap) (0.0.8)\n",
            "Requirement already satisfied: numba>=0.54 in /usr/local/lib/python3.11/dist-packages (from shap) (0.60.0)\n",
            "Requirement already satisfied: cloudpickle in /usr/local/lib/python3.11/dist-packages (from shap) (3.1.1)\n",
            "Requirement already satisfied: typing-extensions in /usr/local/lib/python3.11/dist-packages (from shap) (4.13.2)\n",
            "Requirement already satisfied: llvmlite<0.44,>=0.43.0dev0 in /usr/local/lib/python3.11/dist-packages (from numba>=0.54->shap) (0.43.0)\n",
            "Requirement already satisfied: python-dateutil>=2.8.2 in /usr/local/lib/python3.11/dist-packages (from pandas->shap) (2.8.2)\n",
            "Requirement already satisfied: pytz>=2020.1 in /usr/local/lib/python3.11/dist-packages (from pandas->shap) (2025.2)\n",
            "Requirement already satisfied: tzdata>=2022.7 in /usr/local/lib/python3.11/dist-packages (from pandas->shap) (2025.2)\n",
            "Requirement already satisfied: joblib>=1.2.0 in /usr/local/lib/python3.11/dist-packages (from scikit-learn->shap) (1.4.2)\n",
            "Requirement already satisfied: threadpoolctl>=3.1.0 in /usr/local/lib/python3.11/dist-packages (from scikit-learn->shap) (3.6.0)\n",
            "Requirement already satisfied: six>=1.5 in /usr/local/lib/python3.11/dist-packages (from python-dateutil>=2.8.2->pandas->shap) (1.17.0)\n"
          ]
        }
      ],
      "source": [
        "# Cell 1: Install dependencies\n",
        "\n",
        "!pip install shap\n"
      ]
    },
    {
      "cell_type": "code",
      "source": [
        "# Cell 2: Imports\n",
        "\n",
        "import pandas as pd\n",
        "import numpy as np\n",
        "\n",
        "from sklearn.compose        import ColumnTransformer\n",
        "from sklearn.preprocessing  import StandardScaler, OneHotEncoder\n",
        "from sklearn.impute         import SimpleImputer\n",
        "from sklearn.pipeline       import Pipeline\n",
        "from sklearn.model_selection import KFold\n",
        "from sklearn.linear_model    import LinearRegression\n",
        "from sklearn.metrics        import mean_squared_error, mean_absolute_error, r2_score\n",
        "\n",
        "import shap\n"
      ],
      "metadata": {
        "id": "a55atCs5EYBy"
      },
      "execution_count": 2,
      "outputs": []
    },
    {
      "cell_type": "code",
      "source": [
        "# Cell 3: Data‑Loading & Further Cleaning\n",
        "\n",
        "def load_data(filepath, target_col='restoration_score'):\n",
        "    \"\"\"\n",
        "    Loads CSV, drops invalid binary column and zero‑variance features,\n",
        "    returns X (features) and y (continuous target).\n",
        "    \"\"\"\n",
        "    df = pd.read_csv(filepath)\n",
        "\n",
        "    # drop metadata features\n",
        "    df = df.drop(columns=['restoration_success','experiment_date', 'lab_id', 'protocol_version'], errors='ignore')\n",
        "\n",
        "    # drop broken binary label\n",
        "    df = df.drop(columns=[c for c in ['restoration_success'] if c in df.columns])\n",
        "    # drop constant features\n",
        "    df = df.loc[:, df.nunique() > 1]\n",
        "\n",
        "    # split\n",
        "    X = df.drop(columns=[target_col])\n",
        "    y = df[target_col]\n",
        "    return X, y\n"
      ],
      "metadata": {
        "id": "-zcXtEqvLCsq"
      },
      "execution_count": 3,
      "outputs": []
    },
    {
      "cell_type": "code",
      "source": [
        "# Cell 4: Build Regression Pipeline\n",
        "\n",
        "def build_regression_pipeline(X):\n",
        "    \"\"\"\n",
        "    Imputes, encodes, scales, then fits LinearRegression.\n",
        "    \"\"\"\n",
        "    num_feats = X.select_dtypes(include=[np.number]).columns.tolist()\n",
        "    cat_feats = X.select_dtypes(include=['object','category']).columns.tolist()\n",
        "\n",
        "    num_pipe = Pipeline([\n",
        "        ('impute', SimpleImputer(strategy='mean')),\n",
        "        ('scale',  StandardScaler())\n",
        "    ])\n",
        "    cat_pipe = Pipeline([\n",
        "        ('impute', SimpleImputer(strategy='most_frequent')),\n",
        "        ('onehot', OneHotEncoder(sparse_output=False, handle_unknown='ignore'))\n",
        "    ])\n",
        "\n",
        "    preproc = ColumnTransformer([\n",
        "        ('num', num_pipe, num_feats),\n",
        "        ('cat', cat_pipe, cat_feats)\n",
        "    ])\n",
        "\n",
        "    return Pipeline([\n",
        "        ('preproc', preproc),\n",
        "        ('reg',     LinearRegression())\n",
        "    ])"
      ],
      "metadata": {
        "id": "U6Ao_9X_LUK4"
      },
      "execution_count": 4,
      "outputs": []
    },
    {
      "cell_type": "code",
      "source": [
        "# Cell 5: Cross‑Validation & SHAP\n",
        "\n",
        "def evaluate_regression_cv(X, y, pipeline, n_splits=5, random_state=42):\n",
        "    \"\"\"\n",
        "    Runs KFold CV, prints per‑fold RMSE/MAE/R2, collects SHAP.\n",
        "    Returns metrics_df, all_shap_vals, all_X_val_trans, feature_names.\n",
        "    \"\"\"\n",
        "    kf = KFold(n_splits=n_splits, shuffle=True, random_state=random_state)\n",
        "    metrics, shap_vals_list, X_val_list = [], [], []\n",
        "\n",
        "    for fold, (tr, va) in enumerate(kf.split(X), start=1):\n",
        "        X_tr, X_va = X.iloc[tr], X.iloc[va]\n",
        "        y_tr, y_va = y.iloc[tr], y.iloc[va]\n",
        "\n",
        "        pipeline.fit(X_tr, y_tr)\n",
        "        y_pred = pipeline.predict(X_va)\n",
        "\n",
        "        rmse = np.sqrt(mean_squared_error(y_va, y_pred))\n",
        "        mae  = mean_absolute_error(y_va, y_pred)\n",
        "        r2   = r2_score(y_va, y_pred)\n",
        "        print(f\"Fold {fold}: RMSE={rmse:.4f}, MAE={mae:.4f}, R²={r2:.4f}\")\n",
        "        metrics.append({'fold':fold,'rmse':rmse,'mae':mae,'r2':r2})\n",
        "\n",
        "        # SHAP\n",
        "        pre = pipeline.named_steps['preproc']\n",
        "        reg = pipeline.named_steps['reg']\n",
        "        X_tr_t  = pre.transform(X_tr)\n",
        "        X_va_t  = pre.transform(X_va)\n",
        "        feat_names = pre.get_feature_names_out(X.columns)\n",
        "\n",
        "        explainer = shap.LinearExplainer(reg, X_tr_t, feature_perturbation='interventional')\n",
        "        sv = explainer.shap_values(X_va_t)\n",
        "        shap_vals_list.append(sv)\n",
        "        X_val_list.append(X_va_t)\n",
        "\n",
        "    metrics_df = pd.DataFrame(metrics).set_index('fold')\n",
        "    print(\"\\nCV metrics (mean ± std):\")\n",
        "    print(metrics_df.agg(['mean','std']).round(4))\n",
        "    return metrics_df, shap_vals_list, X_val_list, feat_names"
      ],
      "metadata": {
        "id": "782YslhVLged"
      },
      "execution_count": 5,
      "outputs": []
    },
    {
      "cell_type": "code",
      "source": [
        "# Cell 6: Full‑Data Model & Metrics\n",
        "\n",
        "def train_full_model(X, y, pipeline):\n",
        "    \"\"\"\n",
        "    Fits on all data, prints overall RMSE/MAE/R2, returns pipeline and preds.\n",
        "    \"\"\"\n",
        "    pipeline.fit(X, y)\n",
        "    y_pred = pipeline.predict(X)\n",
        "    rmse = np.sqrt(mean_squared_error(y, y_pred))\n",
        "    mae  = mean_absolute_error(y, y_pred)\n",
        "    r2   = r2_score(y, y_pred)\n",
        "    print(f\"Full‑data: RMSE={rmse:.4f}, MAE={mae:.4f}, R²={r2:.4f}\")\n",
        "    return pipeline, y_pred\n"
      ],
      "metadata": {
        "id": "FmOC8cHTL1m_"
      },
      "execution_count": 6,
      "outputs": []
    },
    {
      "cell_type": "code",
      "source": [
        "# Cell 7: SHAP Summary Plot\n",
        "\n",
        "def plot_shap_summary(all_shap_vals, all_X_vals, feature_names, max_display=10):\n",
        "    \"\"\"\n",
        "    Aggregates SHAP values and displays a summary plot.\n",
        "    \"\"\"\n",
        "    vals = np.vstack(all_shap_vals)\n",
        "    data = np.vstack(all_X_vals)\n",
        "    shap.summary_plot(vals, data,\n",
        "                      feature_names=feature_names,\n",
        "                      max_display=max_display)"
      ],
      "metadata": {
        "id": "qrc9ciVHMJXJ"
      },
      "execution_count": 7,
      "outputs": []
    },
    {
      "cell_type": "code",
      "source": [
        "# Cell 8: Main Program\n",
        "\n",
        "# 1) Point to your engineered CSV in the Files panel\n",
        "fp = 'hybrid_neural_tissue_dataset-w 9 features engineered in AI Studio-no 1s.csv'\n",
        "\n",
        "# 2) Load data\n",
        "X, y = load_data(fp)\n",
        "\n",
        "# 3) Build pipeline\n",
        "pipeline = build_regression_pipeline(X)\n",
        "\n",
        "# 4) Cross‑validate + SHAP\n",
        "metrics_df, all_shap, all_X_vals, feat_names = evaluate_regression_cv(X, y, pipeline)\n",
        "\n",
        "# 5) Train on full data\n",
        "pipeline, y_full_pred = train_full_model(X, y, pipeline)\n",
        "\n",
        "# 6) SHAP summary\n",
        "plot_shap_summary(all_shap, all_X_vals, feat_names)\n"
      ],
      "metadata": {
        "colab": {
          "base_uri": "https://localhost:8080/",
          "height": 963
        },
        "id": "0V-AuqwdMZ6F",
        "outputId": "a32ee96e-2273-4057-d910-1954096d42b9"
      },
      "execution_count": 8,
      "outputs": [
        {
          "output_type": "stream",
          "name": "stdout",
          "text": [
            "Fold 1: RMSE=3.1437, MAE=2.0497, R²=0.9036\n",
            "Fold 2: RMSE=3.6412, MAE=2.2269, R²=0.8630\n"
          ]
        },
        {
          "output_type": "stream",
          "name": "stderr",
          "text": [
            "/usr/local/lib/python3.11/dist-packages/shap/explainers/_linear.py:99: FutureWarning: The feature_perturbation option is now deprecated in favor of using the appropriate masker (maskers.Independent, maskers.Partition or maskers.Impute).\n",
            "  warnings.warn(wmsg, FutureWarning)\n",
            "/usr/local/lib/python3.11/dist-packages/shap/explainers/_linear.py:99: FutureWarning: The feature_perturbation option is now deprecated in favor of using the appropriate masker (maskers.Independent, maskers.Partition or maskers.Impute).\n",
            "  warnings.warn(wmsg, FutureWarning)\n"
          ]
        },
        {
          "output_type": "stream",
          "name": "stdout",
          "text": [
            "Fold 3: RMSE=2.9608, MAE=1.9030, R²=0.8982\n",
            "Fold 4: RMSE=4.9606, MAE=2.4052, R²=0.7831\n"
          ]
        },
        {
          "output_type": "stream",
          "name": "stderr",
          "text": [
            "/usr/local/lib/python3.11/dist-packages/shap/explainers/_linear.py:99: FutureWarning: The feature_perturbation option is now deprecated in favor of using the appropriate masker (maskers.Independent, maskers.Partition or maskers.Impute).\n",
            "  warnings.warn(wmsg, FutureWarning)\n",
            "/usr/local/lib/python3.11/dist-packages/shap/explainers/_linear.py:99: FutureWarning: The feature_perturbation option is now deprecated in favor of using the appropriate masker (maskers.Independent, maskers.Partition or maskers.Impute).\n",
            "  warnings.warn(wmsg, FutureWarning)\n"
          ]
        },
        {
          "output_type": "stream",
          "name": "stdout",
          "text": [
            "Fold 5: RMSE=2.5856, MAE=1.8558, R²=0.9330\n",
            "\n",
            "CV metrics (mean ± std):\n",
            "        rmse     mae      r2\n",
            "mean  3.4584  2.0881  0.8762\n",
            "std   0.9217  0.2289  0.0577\n"
          ]
        },
        {
          "output_type": "stream",
          "name": "stderr",
          "text": [
            "/usr/local/lib/python3.11/dist-packages/shap/explainers/_linear.py:99: FutureWarning: The feature_perturbation option is now deprecated in favor of using the appropriate masker (maskers.Independent, maskers.Partition or maskers.Impute).\n",
            "  warnings.warn(wmsg, FutureWarning)\n"
          ]
        },
        {
          "output_type": "stream",
          "name": "stdout",
          "text": [
            "Full‑data: RMSE=2.8721, MAE=1.6982, R²=0.9178\n"
          ]
        },
        {
          "output_type": "display_data",
          "data": {
            "text/plain": [
              "<Figure size 800x550 with 2 Axes>"
            ],
            "image/png": "[encoded data removed]"
          },
          "metadata": {}
        }
      ]
    },
    {
      "cell_type": "markdown",
      "source": [
        "**BUILDING THE API SERVICE** (FNAL PRODUCT)"
      ],
      "metadata": {
        "id": "ZOKhEu9ZX354"
      }
    },
    {
      "cell_type": "code",
      "source": [
        "# Step 1. Install and import once (Run this cell once per Colab session.)\n",
        "\n",
        "# install & imports\n",
        "!pip install -q fastapi uvicorn pyngrok nest_asyncio shap\n",
        "\n",
        "import nest_asyncio, json, pandas as pd, threading, requests\n",
        "from fastapi import FastAPI\n",
        "from pydantic import BaseModel\n",
        "from pyngrok import ngrok\n",
        "import uvicorn, shap\n",
        "\n",
        "\n"
      ],
      "metadata": {
        "id": "oO0OxO9YX1xd",
        "colab": {
          "base_uri": "https://localhost:8080/"
        },
        "outputId": "e8c557d4-4d4c-4a8a-8bb9-f6a63de2a223"
      },
      "execution_count": 9,
      "outputs": [
        {
          "output_type": "stream",
          "name": "stdout",
          "text": [
            "\u001b[?25l   \u001b[90m━━━━━━━━━━━━━━━━━━━━━━━━━━━━━━━━━━━━━━━━\u001b[0m \u001b[32m0.0/95.2 kB\u001b[0m \u001b[31m?\u001b[0m eta \u001b[36m-:--:--\u001b[0m\r\u001b[2K   \u001b[90m━━━━━━━━━━━━━━━━━━━━━━━━━━━━━━━━━━━━━━━━\u001b[0m \u001b[32m95.2/95.2 kB\u001b[0m \u001b[31m6.9 MB/s\u001b[0m eta \u001b[36m0:00:00\u001b[0m\n",
            "\u001b[?25h\u001b[?25l   \u001b[90m━━━━━━━━━━━━━━━━━━━━━━━━━━━━━━━━━━━━━━━━\u001b[0m \u001b[32m0.0/62.5 kB\u001b[0m \u001b[31m?\u001b[0m eta \u001b[36m-:--:--\u001b[0m\r\u001b[2K   \u001b[90m━━━━━━━━━━━━━━━━━━━━━━━━━━━━━━━━━━━━━━━━\u001b[0m \u001b[32m62.5/62.5 kB\u001b[0m \u001b[31m3.5 MB/s\u001b[0m eta \u001b[36m0:00:00\u001b[0m\n",
            "\u001b[?25h\u001b[?25l   \u001b[90m━━━━━━━━━━━━━━━━━━━━━━━━━━━━━━━━━━━━━━━━\u001b[0m \u001b[32m0.0/72.0 kB\u001b[0m \u001b[31m?\u001b[0m eta \u001b[36m-:--:--\u001b[0m\r\u001b[2K   \u001b[90m━━━━━━━━━━━━━━━━━━━━━━━━━━━━━━━━━━━━━━━━\u001b[0m \u001b[32m72.0/72.0 kB\u001b[0m \u001b[31m3.3 MB/s\u001b[0m eta \u001b[36m0:00:00\u001b[0m\n",
            "\u001b[?25h"
          ]
        }
      ]
    },
    {
      "cell_type": "code",
      "source": [
        "# Step 2. Build the SHAP explainer and the FastAPI app\n",
        "\n",
        "# Cell: explainer + endpoints\n",
        "#\n",
        "# 1) Build background data for SHAP\n",
        "preproc       = pipeline.named_steps[\"preproc\"]\n",
        "X_background  = preproc.transform(X)      # full transformed data\n",
        "explainer     = shap.LinearExplainer(pipeline.named_steps[\"reg\"],\n",
        "                                     X_background,\n",
        "                                     feature_perturbation=\"interventional\")\n",
        "feature_names = preproc.get_feature_names_out(X.columns)\n",
        "\n",
        "# 2) FastAPI definitions\n",
        "app = FastAPI(title=\"Neural Restoration API\")\n",
        "\n",
        "class PredictRequest(BaseModel):\n",
        "    data: dict            # raw feature_name : value\n",
        "\n",
        "@app.post(\"/predict\")\n",
        "def predict(req: PredictRequest):\n",
        "    df  = pd.DataFrame([req.data])\n",
        "    xt  = preproc.transform(df)\n",
        "    val = pipeline.named_steps[\"reg\"].predict(xt)[0]\n",
        "    return {\"restoration_score\": float(val)}\n",
        "\n",
        "@app.post(\"/explain\")\n",
        "def explain(req: PredictRequest):\n",
        "    df  = pd.DataFrame([req.data])\n",
        "    xt  = preproc.transform(df)\n",
        "    shap_vals = explainer.shap_values(xt)[0]\n",
        "    return {\"explanation\": dict(zip(feature_names, map(float, shap_vals)))}\n"
      ],
      "metadata": {
        "id": "MXiWKKxXZgwg",
        "colab": {
          "base_uri": "https://localhost:8080/"
        },
        "outputId": "13c700c8-02b5-4ab0-d87c-d7fb7118d980"
      },
      "execution_count": 10,
      "outputs": [
        {
          "output_type": "stream",
          "name": "stderr",
          "text": [
            "/usr/local/lib/python3.11/dist-packages/shap/explainers/_linear.py:99: FutureWarning: The feature_perturbation option is now deprecated in favor of using the appropriate masker (maskers.Independent, maskers.Partition or maskers.Impute).\n",
            "  warnings.warn(wmsg, FutureWarning)\n"
          ]
        }
      ]
    },
    {
      "cell_type": "code",
      "source": [
        "# Step 2a. Inserting new home() route for a more friendly landing page\n",
        "\n",
        "from fastapi.responses import HTMLResponse\n",
        "\n",
        "@app.get(\"/\", include_in_schema=False)\n",
        "def home():\n",
        "    \"\"\"Friendly landing page for non-technical visitors.\"\"\"\n",
        "    html = \"\"\"\n",
        "    <!DOCTYPE html><html>\n",
        "      <head>\n",
        "        <title>Neural Tissue Restoration API</title>\n",
        "        <style>\n",
        "            body {font-family: Arial, sans-serif; margin: 2rem; line-height: 1.6;}\n",
        "            code {background:#f5f5f5; padding:2px 4px; border-radius:3px;}\n",
        "            pre  {background:#f5f5f5; padding:1rem; border-radius:3px;}\n",
        "            h2   {color:#006699;}\n",
        "        </style>\n",
        "      </head>\n",
        "      <body>\n",
        "        <h2>Neural Tissue Restoration API</h2>\n",
        "        <p>\n",
        "          This service can <strong>predict</strong> a restoration score for one tissue sample\n",
        "          and <strong>explain</strong> which factors drove that prediction.\n",
        "        </p>\n",
        "        <ul>\n",
        "          <li><code>POST /predict</code> — returns <em>restoration_score</em></li>\n",
        "          <li><code>POST /explain</code> — returns SHAP attributions</li>\n",
        "        </ul>\n",
        "        <h3>Get started:</h3>\n",
        "        <ol>\n",
        "          <li>Click <a href=\"/docs\">API Explorer (Swagger UI)</a>.</li>\n",
        "          <li>Press “Try it out”, paste your JSON payload, then “Execute”.</li>\n",
        "        </ol>\n",
        "        <h3>Example JSON payload</h3>\n",
        "        <pre>{\n",
        "  \"data\": {\n",
        "    \"viability_predict_ratio\": 1.3880272422749618,\n",
        "    \"gene_GRIN1\": 4.376884703298932,\n",
        "    \"gene_GRIA1\": 2.511423477375189,\n",
        "    \"organelle_disruption\": 3.6296860699989457,\n",
        "    \"dna_damage\": 1.3319745831048486,\n",
        "    \"restoration_efficiency_index\": 1.278288847680198,\n",
        "    \"thawing_rate\": 53.158280053872375,\n",
        "    \"ice_crystal_formation\": 4.876505899499762,\n",
        "    \"osmotic_stress_level\": 8.52751954257675,\n",
        "    \"temperature_transition_stress\": 11.443151002664491,\n",
        "    \"cooling_rate\": 9.606451509728902,\n",
        "    \"target_temperature\": -115.55845682867258,\n",
        "    \"nucleation_temperature\": -5.630381603070446,\n",
        "    \"cellular_complexity_factor\": 3.432534379293956,\n",
        "    \"dendritic_complexity\": 0.9966262511088848,\n",
        "    \"thaw_cool_efficiency\": 5.533602079814435,\n",
        "    \"dendrite_soma_ratio\": 143.89317396104323,\n",
        "    \"dendrite_length\": 987.7796172497268,\n",
        "    \"soma_diameter\": 6.864673215959169,\n",
        "    \"ice_cooling_interaction\": 46.84591746045138,\n",
        "    \"membrane_thawing_interaction\": 2814.057652812492,\n",
        "    \"membrane_integrity_loss\": 52.93733450293411,\n",
        "    \"cryoprot_cooling_interaction\": 120.47172189644888,\n",
        "    \"cryoprotectant_concentration\": 12.540709935863577,\n",
        "    \"specimen_id\": 1.0,\n",
        "    \"brain_region\": \"thalamus\",\n",
        "    \"cell_type\": \"purkinje\",\n",
        "    \"age\": 31.0,\n",
        "    \"sex\": \"M\",\n",
        "    \"input_resistance\": 305.7266683107732,\n",
        "    \"resting_potential\": -65.26087098581392,\n",
        "    \"threshold_voltage\": -55.83517351243294,\n",
        "    \"capacitance\": 102.24209893649034,\n",
        "    \"time_constant\": 19.8658407814547,\n",
        "    \"axon_length\": 2486.3088213538717,\n",
        "    \"dendrite_branches\": 15.0,\n",
        "    \"gene_GRIA2\": 2.8557849038391723,\n",
        "    \"gene_GRIA3\": 2.966036774125727,\n",
        "    \"gene_GRIN2A\": 3.725329831984233,\n",
        "    \"gene_GRIN2B\": 1.326175619025153,\n",
        "    \"gene_GABRA1\": 4.210966287586621,\n",
        "    \"gene_GABRB2\": 1.8284923547710736,\n",
        "    \"gene_SLC6A1\": 3.93186379793548,\n",
        "    \"cryoprotectant_type\": \"Glycerol\",\n",
        "    \"penetration_time\": 27.85787947881141,\n",
        "    \"freezing_duration\": 3.569740029189437,\n",
        "    \"sample_volume\": 4.745008492081834,\n",
        "    \"thawing_method\": \"Microwave\",\n",
        "    \"post_thaw_dilution_ratio\": 7.1097768017696215,\n",
        "    \"rewarming_protocol\": \"Standard\",\n",
        "    \"intracellular_ice_damage\": 3.458182656967149,\n",
        "    \"protein_denaturation\": 81.98443517257338,\n",
        "    \"viability_post_thaw\": 0.0,\n",
        "    \"metabolic_activity_recovery\": 3.3639210293383286,\n",
        "    \"electrophysiological_recovery\": 23.484570263225507,\n",
        "    \"morphological_integrity\": 0.0,\n",
        "    \"functional_connectivity\": 43.39155935306351,\n",
        "    \"experimental_group\": \"Treatment_C\",\n",
        "    \"pretreatment\": Null\n",
        "  }\n",
        "}</pre>\n",
        "        <h3>Command-line (curl)</h3>\n",
        "        <pre>curl -X POST \"{root}predict\" \\\\\n",
        "  -H \"Content-Type: application/json\" \\\\\n",
        "  -d @sample.json</pre>\n",
        "        <p style=\"font-size:0.9em; margin-top:2rem;\">\n",
        "          Need help? Use the API Explorer or drop me a note.\n",
        "        </p>\n",
        "      </body>\n",
        "    </html>\n",
        "    \"\"\".replace(\"{root}\", \"/\")  # ensures correct link\n",
        "    return HTMLResponse(html)\n"
      ],
      "metadata": {
        "id": "XwG9aWxWvzQ_"
      },
      "execution_count": 11,
      "outputs": []
    },
    {
      "cell_type": "code",
      "source": [
        "# 1.For debugging only\n",
        "\n",
        "import json\n",
        "\n",
        "# take the first row as an example\n",
        "payload = {\"data\": X.iloc[0].to_dict()}\n",
        "\n",
        "# pretty-print it\n",
        "print(json.dumps(payload, indent=2))\n",
        "\n"
      ],
      "metadata": {
        "colab": {
          "base_uri": "https://localhost:8080/"
        },
        "id": "qruXWdnL8IUj",
        "outputId": "5831a7d8-d3d5-46e8-98e3-94526b377d3f"
      },
      "execution_count": 12,
      "outputs": [
        {
          "output_type": "stream",
          "name": "stdout",
          "text": [
            "{\n",
            "  \"data\": {\n",
            "    \"viability_predict_ratio\": 1.3880272422749618,\n",
            "    \"gene_GRIN1\": 4.376884703298932,\n",
            "    \"gene_GRIA1\": 2.511423477375189,\n",
            "    \"organelle_disruption\": 3.6296860699989457,\n",
            "    \"dna_damage\": 1.3319745831048486,\n",
            "    \"restoration_efficiency_index\": 1.278288847680198,\n",
            "    \"thawing_rate\": 53.158280053872375,\n",
            "    \"ice_crystal_formation\": 4.876505899499762,\n",
            "    \"osmotic_stress_level\": 8.52751954257675,\n",
            "    \"temperature_transition_stress\": 11.443151002664491,\n",
            "    \"cooling_rate\": 9.606451509728902,\n",
            "    \"target_temperature\": -115.55845682867258,\n",
            "    \"nucleation_temperature\": -5.630381603070446,\n",
            "    \"cellular_complexity_factor\": 3.432534379293956,\n",
            "    \"dendritic_complexity\": 0.9966262511088848,\n",
            "    \"thaw_cool_efficiency\": 5.533602079814435,\n",
            "    \"dendrite_soma_ratio\": 143.89317396104323,\n",
            "    \"dendrite_length\": 987.7796172497268,\n",
            "    \"soma_diameter\": 6.864673215959169,\n",
            "    \"ice_cooling_interaction\": 46.84591746045138,\n",
            "    \"membrane_thawing_interaction\": 2814.057652812492,\n",
            "    \"membrane_integrity_loss\": 52.93733450293411,\n",
            "    \"cryoprot_cooling_interaction\": 120.47172189644888,\n",
            "    \"cryoprotectant_concentration\": 12.540709935863577,\n",
            "    \"specimen_id\": 1.0,\n",
            "    \"brain_region\": \"thalamus\",\n",
            "    \"cell_type\": \"purkinje\",\n",
            "    \"age\": 31.0,\n",
            "    \"sex\": \"M\",\n",
            "    \"input_resistance\": 305.7266683107732,\n",
            "    \"resting_potential\": -65.26087098581392,\n",
            "    \"threshold_voltage\": -55.83517351243294,\n",
            "    \"capacitance\": 102.24209893649034,\n",
            "    \"time_constant\": 19.8658407814547,\n",
            "    \"axon_length\": 2486.3088213538717,\n",
            "    \"dendrite_branches\": 15.0,\n",
            "    \"gene_GRIA2\": 2.8557849038391723,\n",
            "    \"gene_GRIA3\": 2.966036774125727,\n",
            "    \"gene_GRIN2A\": 3.725329831984233,\n",
            "    \"gene_GRIN2B\": 1.326175619025153,\n",
            "    \"gene_GABRA1\": 4.210966287586621,\n",
            "    \"gene_GABRB2\": 1.8284923547710736,\n",
            "    \"gene_SLC6A1\": 3.93186379793548,\n",
            "    \"cryoprotectant_type\": \"Glycerol\",\n",
            "    \"penetration_time\": 27.85787947881141,\n",
            "    \"freezing_duration\": 3.569740029189437,\n",
            "    \"sample_volume\": 4.745008492081834,\n",
            "    \"thawing_method\": \"Microwave\",\n",
            "    \"post_thaw_dilution_ratio\": 7.1097768017696215,\n",
            "    \"rewarming_protocol\": \"Standard\",\n",
            "    \"intracellular_ice_damage\": 3.458182656967149,\n",
            "    \"protein_denaturation\": 81.98443517257338,\n",
            "    \"viability_post_thaw\": 0.0,\n",
            "    \"metabolic_activity_recovery\": 3.3639210293383286,\n",
            "    \"electrophysiological_recovery\": 23.484570263225507,\n",
            "    \"morphological_integrity\": 0.0,\n",
            "    \"functional_connectivity\": 43.39155935306351,\n",
            "    \"experimental_group\": \"Treatment_C\",\n",
            "    \"pretreatment\": NaN\n",
            "  }\n",
            "}\n"
          ]
        }
      ]
    },
    {
      "cell_type": "code",
      "source": [
        "'''\n",
        "# 2. For debugging only\n",
        "\n",
        "# after you’ve loaded X in your notebook\n",
        "features = X.columns.tolist()\n",
        "print(len(features), \"features:\")\n",
        "print(features)\n",
        "'''"
      ],
      "metadata": {
        "colab": {
          "base_uri": "https://localhost:8080/",
          "height": 55
        },
        "id": "nQA3MDv30uO9",
        "outputId": "7f5c4db1-2dde-44d6-a242-f58b6bfe0b9d"
      },
      "execution_count": 13,
      "outputs": [
        {
          "output_type": "execute_result",
          "data": {
            "text/plain": [
              "'\\n# 2. For debugging only\\n\\n# after you’ve loaded X in your notebook\\nfeatures = X.columns.tolist()\\nprint(len(features), \"features:\")\\nprint(features)\\n'"
            ],
            "application/vnd.google.colaboratory.intrinsic+json": {
              "type": "string"
            }
          },
          "metadata": {},
          "execution_count": 13
        }
      ]
    },
    {
      "cell_type": "code",
      "source": [
        "'''\n",
        "# 3. For debugging only\n",
        "\n",
        "print(\"Raw features used:\", X.columns.tolist())\n",
        "print(\"Count of raw features:\", X.shape[1])\n",
        "'''"
      ],
      "metadata": {
        "id": "u9FhPUyAFjfE",
        "colab": {
          "base_uri": "https://localhost:8080/",
          "height": 55
        },
        "outputId": "e79a9012-9584-433b-bad5-ab90338ff9c7"
      },
      "execution_count": 14,
      "outputs": [
        {
          "output_type": "execute_result",
          "data": {
            "text/plain": [
              "'\\n# 3. For debugging only\\n\\nprint(\"Raw features used:\", X.columns.tolist())\\nprint(\"Count of raw features:\", X.shape[1])\\n'"
            ],
            "application/vnd.google.colaboratory.intrinsic+json": {
              "type": "string"
            }
          },
          "metadata": {},
          "execution_count": 14
        }
      ]
    },
    {
      "cell_type": "code",
      "source": [
        "'''\n",
        "# 4. For debugging only\n",
        "\n",
        "test_record = X.iloc[0].to_dict()\n",
        "print(test_record)\n",
        "'''"
      ],
      "metadata": {
        "id": "laf1NI79MgEr",
        "colab": {
          "base_uri": "https://localhost:8080/",
          "height": 36
        },
        "outputId": "9830be70-53e5-4845-bcf1-d1e6d95129bd"
      },
      "execution_count": 15,
      "outputs": [
        {
          "output_type": "execute_result",
          "data": {
            "text/plain": [
              "'\\n# 4. For debugging only\\n\\ntest_record = X.iloc[0].to_dict()\\nprint(test_record)\\n'"
            ],
            "application/vnd.google.colaboratory.intrinsic+json": {
              "type": "string"
            }
          },
          "metadata": {},
          "execution_count": 15
        }
      ]
    },
    {
      "cell_type": "code",
      "source": [
        "# Step 3. Open one ngrok tunnel and launch Uvicorn\n",
        "\n",
        "# expose & run\n",
        "#ngrok.kill()                                       # close stale tunnels\n",
        "ngrok.set_auth_token(\"2veP9j94j6zxVobVV9NnZHHltlP_7Di1m8AMcVvmdswcYT1HE\")\n",
        "ngrok.kill()                                       # close stale tunnels\n",
        "public_url = ngrok.connect(8000)\n",
        "print(\"🔗 Public URL:\", public_url)\n",
        "\n",
        "nest_asyncio.apply()                               # allow re-entrancy\n",
        "\n",
        "def _run():\n",
        "    uvicorn.run(app, host=\"0.0.0.0\", port=8000, log_level=\"error\")\n",
        "\n",
        "threading.Thread(target=_run, daemon=True).start()\n",
        "print(\"✅ FastAPI is live; visit /docs for Swagger UI\")\n",
        "\n"
      ],
      "metadata": {
        "colab": {
          "base_uri": "https://localhost:8080/"
        },
        "id": "rRLm4_zwbHyb",
        "outputId": "fb392de2-a94f-4de6-c23c-18d844d1ffa7"
      },
      "execution_count": 16,
      "outputs": [
        {
          "output_type": "stream",
          "name": "stdout",
          "text": [
            "🔗 Public URL: NgrokTunnel: \"https://8138-35-231-161-230.ngrok-free.app\" -> \"http://localhost:8000\"\n",
            "✅ FastAPI is live; visit /docs for Swagger UI\n"
          ]
        }
      ]
    },
    {
      "cell_type": "markdown",
      "source": [],
      "metadata": {
        "id": "2gA7qZ-Pb6z5"
      }
    }
  ]
}